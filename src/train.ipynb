{
 "cells": [
  {
   "cell_type": "markdown",
   "metadata": {},
   "source": [
    "## Imports"
   ]
  },
  {
   "cell_type": "code",
   "execution_count": 1,
   "metadata": {},
   "outputs": [],
   "source": [
    "# DO NOT CHANGE THESE LINES.\n",
    "import os\n",
    "import json\n",
    "import pandas as pd\n",
    "import warnings\n",
    "from sklearn.linear_model import LogisticRegression\n",
    "from feature_engine.encoding import OneHotEncoder\n",
    "from sklearn.preprocessing import LabelEncoder\n",
    "from joblib import dump\n",
    "warnings.filterwarnings('ignore')"
   ]
  },
  {
   "cell_type": "markdown",
   "metadata": {},
   "source": [
    "## Paths"
   ]
  },
  {
   "cell_type": "code",
   "execution_count": 2,
   "metadata": {},
   "outputs": [],
   "source": [
    "# DO NOT CHANGE THESE LINES.\n",
    "ROOT_DIR = os.path.dirname(os.getcwd())\n",
    "MODEL_INPUTS_OUTPUTS = os.path.join(ROOT_DIR, 'model_inputs_outputs/')\n",
    "INPUT_DIR = os.path.join(MODEL_INPUTS_OUTPUTS, \"inputs\")\n",
    "INPUT_SCHEMA_DIR = os.path.join(INPUT_DIR, \"schema\")\n",
    "DATA_DIR = os.path.join(INPUT_DIR, \"data\")\n",
    "TRAIN_DIR = os.path.join(DATA_DIR, \"training\")\n",
    "TEST_DIR = os.path.join(DATA_DIR, \"testing\")\n",
    "MODEL_PATH = os.path.join(MODEL_INPUTS_OUTPUTS, \"model\")\n",
    "MODEL_ARTIFACTS_PATH = os.path.join(MODEL_PATH, \"artifacts\")\n",
    "OHE_ENCODER_FILE = os.path.join(MODEL_ARTIFACTS_PATH, 'ohe.joblib')\n",
    "PREDICTOR_DIR_PATH = os.path.join(MODEL_ARTIFACTS_PATH, \"predictor\")\n",
    "PREDICTOR_FILE_PATH = os.path.join(PREDICTOR_DIR_PATH, \"predictor.joblib\")\n",
    "IMPUTATION_FILE = os.path.join(MODEL_ARTIFACTS_PATH, 'imputation.joblib')\n",
    "LABEL_ENCODER_FILE = os.path.join(MODEL_ARTIFACTS_PATH, 'label_encoder.joblib')\n",
    "if not os.path.exists(MODEL_ARTIFACTS_PATH):\n",
    "    os.makedirs(MODEL_ARTIFACTS_PATH)\n",
    "if not os.path.exists(PREDICTOR_DIR_PATH):\n",
    "    os.makedirs(PREDICTOR_DIR_PATH)"
   ]
  },
  {
   "cell_type": "markdown",
   "metadata": {},
   "source": [
    "### Reading the schema\n",
    "The schema contains metadata about the datasets. We will use the scehma to get information about the type of each feature (NUMERIC or CATEGORICAL) and the id and target features, this will be helpful in preprocessing stage."
   ]
  },
  {
   "cell_type": "code",
   "execution_count": 3,
   "metadata": {},
   "outputs": [],
   "source": [
    "file_name = [f for f in os.listdir(INPUT_SCHEMA_DIR) if f.endswith('json')][0]\n",
    "schema_path = os.path.join(INPUT_SCHEMA_DIR, file_name)\n",
    "with open(schema_path, \"r\", encoding=\"utf-8\") as file:\n",
    "    schema = json.load(file)\n",
    "features = schema['features']\n",
    "\n",
    "numeric_features = []\n",
    "categorical_features = []\n",
    "for f in features:\n",
    "    if f['dataType'] == 'CATEGORICAL':\n",
    "        categorical_features.append(f['name'])\n",
    "    else:\n",
    "        numeric_features.append(f['name'])\n",
    "\n",
    "id_feature = schema['id']['name']\n",
    "target_feature = schema['target']['name']\n",
    "target_classes = schema['target']['classes']"
   ]
  },
  {
   "cell_type": "markdown",
   "metadata": {},
   "source": [
    "### Reading training data"
   ]
  },
  {
   "cell_type": "code",
   "execution_count": 4,
   "metadata": {},
   "outputs": [
    {
     "data": {
      "text/html": [
       "<div>\n",
       "<style scoped>\n",
       "    .dataframe tbody tr th:only-of-type {\n",
       "        vertical-align: middle;\n",
       "    }\n",
       "\n",
       "    .dataframe tbody tr th {\n",
       "        vertical-align: top;\n",
       "    }\n",
       "\n",
       "    .dataframe thead th {\n",
       "        text-align: right;\n",
       "    }\n",
       "</style>\n",
       "<table border=\"1\" class=\"dataframe\">\n",
       "  <thead>\n",
       "    <tr style=\"text-align: right;\">\n",
       "      <th></th>\n",
       "      <th>Id</th>\n",
       "      <th>X1</th>\n",
       "      <th>X2</th>\n",
       "      <th>X3</th>\n",
       "      <th>X4</th>\n",
       "      <th>X5</th>\n",
       "      <th>X6</th>\n",
       "      <th>X7</th>\n",
       "      <th>X8</th>\n",
       "      <th>X9</th>\n",
       "      <th>...</th>\n",
       "      <th>X24</th>\n",
       "      <th>X25</th>\n",
       "      <th>X26</th>\n",
       "      <th>X27</th>\n",
       "      <th>X28</th>\n",
       "      <th>X29</th>\n",
       "      <th>X30</th>\n",
       "      <th>X31</th>\n",
       "      <th>X32</th>\n",
       "      <th>Phase</th>\n",
       "    </tr>\n",
       "  </thead>\n",
       "  <tbody>\n",
       "    <tr>\n",
       "      <th>0</th>\n",
       "      <td>5843</td>\n",
       "      <td>0.008641</td>\n",
       "      <td>-0.002755</td>\n",
       "      <td>-0.001820</td>\n",
       "      <td>0.000991</td>\n",
       "      <td>0.000656</td>\n",
       "      <td>0.000014</td>\n",
       "      <td>0.008141</td>\n",
       "      <td>-0.002648</td>\n",
       "      <td>-0.001606</td>\n",
       "      <td>...</td>\n",
       "      <td>-0.000009</td>\n",
       "      <td>0.009250</td>\n",
       "      <td>0.001189</td>\n",
       "      <td>0.008710</td>\n",
       "      <td>0.003422</td>\n",
       "      <td>0.000674</td>\n",
       "      <td>0.000038</td>\n",
       "      <td>0.000342</td>\n",
       "      <td>0.000192</td>\n",
       "      <td>H</td>\n",
       "    </tr>\n",
       "    <tr>\n",
       "      <th>1</th>\n",
       "      <td>1776</td>\n",
       "      <td>-0.000973</td>\n",
       "      <td>0.001626</td>\n",
       "      <td>-0.000072</td>\n",
       "      <td>-0.000420</td>\n",
       "      <td>0.003060</td>\n",
       "      <td>-0.000281</td>\n",
       "      <td>0.000463</td>\n",
       "      <td>0.001564</td>\n",
       "      <td>-0.000300</td>\n",
       "      <td>...</td>\n",
       "      <td>-0.000005</td>\n",
       "      <td>0.001897</td>\n",
       "      <td>0.003102</td>\n",
       "      <td>0.001659</td>\n",
       "      <td>0.003012</td>\n",
       "      <td>0.000317</td>\n",
       "      <td>0.002450</td>\n",
       "      <td>0.000303</td>\n",
       "      <td>0.000131</td>\n",
       "      <td>P</td>\n",
       "    </tr>\n",
       "    <tr>\n",
       "      <th>2</th>\n",
       "      <td>5522</td>\n",
       "      <td>0.006124</td>\n",
       "      <td>-0.030467</td>\n",
       "      <td>0.002402</td>\n",
       "      <td>0.004168</td>\n",
       "      <td>-0.000922</td>\n",
       "      <td>-0.000280</td>\n",
       "      <td>0.003658</td>\n",
       "      <td>-0.021807</td>\n",
       "      <td>0.001822</td>\n",
       "      <td>...</td>\n",
       "      <td>-0.000001</td>\n",
       "      <td>0.031169</td>\n",
       "      <td>0.004278</td>\n",
       "      <td>0.022187</td>\n",
       "      <td>0.002447</td>\n",
       "      <td>0.000973</td>\n",
       "      <td>0.000101</td>\n",
       "      <td>0.001329</td>\n",
       "      <td>0.000047</td>\n",
       "      <td>P</td>\n",
       "    </tr>\n",
       "    <tr>\n",
       "      <th>3</th>\n",
       "      <td>7047</td>\n",
       "      <td>0.010721</td>\n",
       "      <td>0.005850</td>\n",
       "      <td>0.031741</td>\n",
       "      <td>0.019252</td>\n",
       "      <td>0.017786</td>\n",
       "      <td>0.060170</td>\n",
       "      <td>0.010197</td>\n",
       "      <td>0.002923</td>\n",
       "      <td>0.010932</td>\n",
       "      <td>...</td>\n",
       "      <td>0.003263</td>\n",
       "      <td>0.034010</td>\n",
       "      <td>0.065631</td>\n",
       "      <td>0.015233</td>\n",
       "      <td>0.039471</td>\n",
       "      <td>0.002025</td>\n",
       "      <td>0.004293</td>\n",
       "      <td>0.000824</td>\n",
       "      <td>0.003670</td>\n",
       "      <td>S</td>\n",
       "    </tr>\n",
       "    <tr>\n",
       "      <th>4</th>\n",
       "      <td>7152</td>\n",
       "      <td>0.006200</td>\n",
       "      <td>0.015449</td>\n",
       "      <td>-0.008240</td>\n",
       "      <td>-0.000140</td>\n",
       "      <td>-0.001091</td>\n",
       "      <td>-0.001790</td>\n",
       "      <td>0.004247</td>\n",
       "      <td>0.008129</td>\n",
       "      <td>-0.006152</td>\n",
       "      <td>...</td>\n",
       "      <td>-0.001890</td>\n",
       "      <td>0.018574</td>\n",
       "      <td>0.002101</td>\n",
       "      <td>0.011043</td>\n",
       "      <td>0.001375</td>\n",
       "      <td>0.002605</td>\n",
       "      <td>0.001816</td>\n",
       "      <td>0.000537</td>\n",
       "      <td>0.001984</td>\n",
       "      <td>S</td>\n",
       "    </tr>\n",
       "  </tbody>\n",
       "</table>\n",
       "<p>5 rows × 34 columns</p>\n",
       "</div>"
      ],
      "text/plain": [
       "     Id        X1        X2        X3        X4        X5        X6        X7  \\\n",
       "0  5843  0.008641 -0.002755 -0.001820  0.000991  0.000656  0.000014  0.008141   \n",
       "1  1776 -0.000973  0.001626 -0.000072 -0.000420  0.003060 -0.000281  0.000463   \n",
       "2  5522  0.006124 -0.030467  0.002402  0.004168 -0.000922 -0.000280  0.003658   \n",
       "3  7047  0.010721  0.005850  0.031741  0.019252  0.017786  0.060170  0.010197   \n",
       "4  7152  0.006200  0.015449 -0.008240 -0.000140 -0.001091 -0.001790  0.004247   \n",
       "\n",
       "         X8        X9  ...       X24       X25       X26       X27       X28  \\\n",
       "0 -0.002648 -0.001606  ... -0.000009  0.009250  0.001189  0.008710  0.003422   \n",
       "1  0.001564 -0.000300  ... -0.000005  0.001897  0.003102  0.001659  0.003012   \n",
       "2 -0.021807  0.001822  ... -0.000001  0.031169  0.004278  0.022187  0.002447   \n",
       "3  0.002923  0.010932  ...  0.003263  0.034010  0.065631  0.015233  0.039471   \n",
       "4  0.008129 -0.006152  ... -0.001890  0.018574  0.002101  0.011043  0.001375   \n",
       "\n",
       "        X29       X30       X31       X32  Phase  \n",
       "0  0.000674  0.000038  0.000342  0.000192      H  \n",
       "1  0.000317  0.002450  0.000303  0.000131      P  \n",
       "2  0.000973  0.000101  0.001329  0.000047      P  \n",
       "3  0.002025  0.004293  0.000824  0.003670      S  \n",
       "4  0.002605  0.001816  0.000537  0.001984      S  \n",
       "\n",
       "[5 rows x 34 columns]"
      ]
     },
     "execution_count": 4,
     "metadata": {},
     "output_type": "execute_result"
    }
   ],
   "source": [
    "file_name = [f for f in os.listdir(TRAIN_DIR) if f.endswith('.csv')][0]\n",
    "file_path = os.path.join(TRAIN_DIR, file_name)\n",
    "df = pd.read_csv(file_path)\n",
    "df.head()"
   ]
  },
  {
   "cell_type": "markdown",
   "metadata": {},
   "source": [
    "## Data Preprocessing\n",
    "Data preprocessing is very important before training the model, as the data may contain missing values in some cells. Moreover, most of the learning algorithms cannot work with categorical data, thus the data has to be encoded.\n",
    "\n",
    "In this section we will impute the missing values and encode the categorical features. Afterwards the data will be ready to train the model."
   ]
  },
  {
   "cell_type": "markdown",
   "metadata": {},
   "source": [
    "##### Imputing missing data\n",
    "> The median value will be used to impute missing values of the numeric features and the mode will be used to impute categorical features.\n",
    "\n",
    "##### You can add your own preprocessing steps such as:\n",
    "<ul>\n",
    "<li>Normalization</li> <br>\n",
    "<li>Outlier removal</li><br>\n",
    "<li>Handling imbalanced classes</li><br>\n",
    "<li>Dropping or adding features</li><br>\n",
    "</ul>\n",
    "\n",
    "### Important note:\n",
    "<p> \n",
    "Saving the values used for imputation during training step is crucial. These values will be used to impute missing data in the testing set. This is very important to avoid the well known problem of data leakage. During testing, you should not make any assumptions about the data in hand, alternatively anything needed during the testing phase should be learned from the training phase. This is why we are creating a dictionary of values used during training to reuse these values during testing.\n",
    "</p>\n"
   ]
  },
  {
   "cell_type": "code",
   "execution_count": 5,
   "metadata": {},
   "outputs": [
    {
     "data": {
      "text/plain": [
       "'\\nBEGIN\\n\\nCODE HERE\\n\\nEND\\n'"
      ]
     },
     "execution_count": 5,
     "metadata": {},
     "output_type": "execute_result"
    }
   ],
   "source": [
    "# Imputing missing data\n",
    "imputation_values = {}\n",
    "columns_with_missing_values = df.columns[df.isna().any()]\n",
    "for column in columns_with_missing_values:    \n",
    "    if column in numeric_features:\n",
    "        value = df[column].median()\n",
    "    else:\n",
    "        value = df[column].mode()[0]\n",
    "    df[column].fillna(value, inplace=True)\n",
    "    imputation_values[column] = value\n",
    "\n",
    "dump(imputation_values, IMPUTATION_FILE)\n",
    "\n",
    "# Comment the above code and write you own imputation code here\n",
    "\n",
    "\"\"\"\n",
    "BEGIN\n",
    "\n",
    "CODE HERE\n",
    "\n",
    "END\n",
    "\"\"\"\n"
   ]
  },
  {
   "cell_type": "markdown",
   "metadata": {},
   "source": [
    "##### Encoding Categorical features\n",
    "<p>\n",
    "The id column is just an identifier for the training example, so we will exclude it during the encoding phase.<br>\n",
    "Target feature will be label encoded in the next step.\n",
    "</p>\n"
   ]
  },
  {
   "cell_type": "code",
   "execution_count": 6,
   "metadata": {},
   "outputs": [],
   "source": [
    "# Saving the id and target columns in a different variable.\n",
    "ids = df[id_feature]\n",
    "target = df[target_feature]\n",
    "\n",
    "# Dropping the id and target from the dataframe\n",
    "df.drop(columns=[id_feature, target_feature], inplace=True)\n",
    "\n",
    "# Ensure that all categorical columns are stored as str type.\n",
    "# This is to ensure that even if the categories are numbers (1, 2, ...), they still get encoded.\n",
    "for c in categorical_features:\n",
    "    df[c] = df[c].astype(str)\n",
    "\n",
    "# Encoding the categorical features if exist\n",
    "if categorical_features:\n",
    "    encoder = OneHotEncoder(top_categories=6)\n",
    "    encoder.fit(df)\n",
    "    df = encoder.transform(df)\n",
    "\n",
    "    # Saving the encoder to use it on the testing dataset\n",
    "    path = dump(encoder, OHE_ENCODER_FILE)"
   ]
  },
  {
   "cell_type": "markdown",
   "metadata": {},
   "source": [
    "#### Encoding the target feature"
   ]
  },
  {
   "cell_type": "code",
   "execution_count": 7,
   "metadata": {},
   "outputs": [
    {
     "data": {
      "text/plain": [
       "array([1, 2, 2, ..., 4, 3, 2])"
      ]
     },
     "execution_count": 7,
     "metadata": {},
     "output_type": "execute_result"
    }
   ],
   "source": [
    "encoder = LabelEncoder()\n",
    "y = encoder.fit_transform(target.values.reshape(-1, 1))\n",
    "dump(encoder, LABEL_ENCODER_FILE)\n",
    "y"
   ]
  },
  {
   "cell_type": "markdown",
   "metadata": {},
   "source": [
    "### Training the Classifier\n",
    "We choose Logistic Regression Classifier, but feel free to try your own and compare the results."
   ]
  },
  {
   "cell_type": "code",
   "execution_count": 8,
   "metadata": {},
   "outputs": [],
   "source": [
    "# Creating a logistic regression model and training it\n",
    "model = LogisticRegression()\n",
    "model.fit(df, y)\n",
    "\n",
    "\"\"\"\n",
    "BEGIN\n",
    "\n",
    "model = ...\n",
    "\n",
    "END\n",
    "\"\"\"\n",
    "\n",
    "# Saving the model to use it for predictions\n",
    "path = dump(model, PREDICTOR_FILE_PATH)\n"
   ]
  }
 ],
 "metadata": {
  "kernelspec": {
   "display_name": "Python 3",
   "language": "python",
   "name": "python3"
  },
  "language_info": {
   "codemirror_mode": {
    "name": "ipython",
    "version": 3
   },
   "file_extension": ".py",
   "mimetype": "text/x-python",
   "name": "python",
   "nbconvert_exporter": "python",
   "pygments_lexer": "ipython3",
   "version": "3.10.8"
  },
  "orig_nbformat": 4
 },
 "nbformat": 4,
 "nbformat_minor": 2
}
